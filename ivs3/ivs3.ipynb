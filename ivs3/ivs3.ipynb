{
 "cells": [
  {
   "cell_type": "code",
   "execution_count": 14,
   "metadata": {},
   "outputs": [],
   "source": [
    "import findspark\n",
    "\n",
    "findspark.init(\"/usr/local/spark\")\n",
    "\n",
    "from pyspark.sql import SparkSession\n",
    "from pyspark.sql import Row\n",
    "from pyspark.sql.types import *"
   ]
  },
  {
   "cell_type": "code",
   "execution_count": 15,
   "metadata": {},
   "outputs": [],
   "source": [
    "spark = SparkSession.builder \\\n",
    "    .master(\"local\") \\\n",
    "    .appName(\"Linear Regression Model\") \\\n",
    "    .config(\"spark.executor.memory\", \"1gb\") \\\n",
    "    .getOrCreate()\n",
    "\n",
    "sc = spark.sparkContext"
   ]
  },
  {
   "cell_type": "code",
   "execution_count": 68,
   "metadata": {},
   "outputs": [
    {
     "name": "stdout",
     "output_type": "stream",
     "text": [
      "+----------+-----+\n",
      "|households|count|\n",
      "+----------+-----+\n",
      "|    6082.0|    1|\n",
      "|    5358.0|    1|\n",
      "|    5189.0|    1|\n",
      "|    5050.0|    1|\n",
      "|    4930.0|    1|\n",
      "|    4855.0|    1|\n",
      "|    4769.0|    1|\n",
      "|    4616.0|    1|\n",
      "|    4490.0|    1|\n",
      "|    4372.0|    1|\n",
      "+----------+-----+\n",
      "only showing top 10 rows\n",
      "\n"
     ]
    },
    {
     "data": {
      "text/plain": [
       "Row(max(ratio)=14.194444444444445)"
      ]
     },
     "execution_count": 68,
     "metadata": {},
     "output_type": "execute_result"
    }
   ],
   "source": [
    "# Load in the data\n",
    "rdd = sc.textFile('cal_housing.data')\n",
    "\n",
    "# Load in the header\n",
    "header = sc.textFile('cal_housing.domain')\n",
    "df = rdd \\\n",
    "    .map(lambda line: line.split(',')) \\\n",
    "    .map(lambda line: Row(\n",
    "        longitude=line[0], \n",
    "        latitude=line[1], \n",
    "        housingMedianAge=line[2],\n",
    "        totalRooms=line[3],\n",
    "        totalBedRooms=line[4],\n",
    "        population=line[5], \n",
    "        households=line[6],\n",
    "        medianIncome=line[7],\n",
    "        medianHouseValue=line[8])).toDF()\n",
    "\n",
    "def convertColumns(df, names, newType):\n",
    "    for name in names:\n",
    "        df = df.withColumn(name, df[name].cast(newType))\n",
    "    return df\n",
    "\n",
    "columns = [\n",
    "    'households',\n",
    "    'housingMedianAge',\n",
    "    'latitude',\n",
    "    'longitude',\n",
    "    'medianHouseValue',\n",
    "    'medianIncome',\n",
    "    'population',\n",
    "    'totalBedRooms',\n",
    "    'totalRooms'\n",
    "]\n",
    "\n",
    "df = convertColumns(df, columns, FloatType())\n",
    "\n",
    "# Compute latitude of the northernmost household from California\n",
    "df.agg({\"latitude\": \"max\"}).first()\n",
    "\n",
    "# Most common household size (all entries are equally common)\n",
    "df.groupBy('households').count().sort(\"households\", ascending=False).show(10)\n",
    "\n",
    "# Highest ratio of bedroom per population in the dataset\n",
    "df.select((df.totalBedRooms / df.population).alias(\"ratio\")).agg({\"ratio\": \"max\"}).first()"
   ]
  },
  {
   "cell_type": "code",
   "execution_count": null,
   "metadata": {},
   "outputs": [],
   "source": []
  }
 ],
 "metadata": {
  "kernelspec": {
   "display_name": "Python 3",
   "language": "python",
   "name": "python3"
  },
  "language_info": {
   "codemirror_mode": {
    "name": "ipython",
    "version": 3
   },
   "file_extension": ".py",
   "mimetype": "text/x-python",
   "name": "python",
   "nbconvert_exporter": "python",
   "pygments_lexer": "ipython3",
   "version": "3.7.0"
  }
 },
 "nbformat": 4,
 "nbformat_minor": 2
}
