{
 "cells": [
  {
   "cell_type": "code",
   "execution_count": 21,
   "metadata": {},
   "outputs": [],
   "source": [
    "import findspark\n",
    "\n",
    "findspark.init(\"/usr/local/spark\")\n",
    "\n",
    "from pyspark.sql import SparkSession\n",
    "from pyspark.sql import Row\n",
    "from pyspark.sql.types import *"
   ]
  },
  {
   "cell_type": "code",
   "execution_count": 22,
   "metadata": {},
   "outputs": [],
   "source": [
    "spark = SparkSession.builder \\\n",
    "    .master(\"local\") \\\n",
    "    .appName(\"Linear Regression Model\") \\\n",
    "    .config(\"spark.executor.memory\", \"1gb\") \\\n",
    "    .getOrCreate()\n",
    "\n",
    "sc = spark.sparkContext"
   ]
  },
  {
   "cell_type": "code",
   "execution_count": 23,
   "metadata": {},
   "outputs": [],
   "source": [
    "# EXERCISE 3\n",
    "\n",
    "firstNames = sc.parallelize([(1, 'Aaron'),(2, 'Abdi'),(3, 'Bart'),(4, 'Calvin'),(5, 'Debbie')])\n",
    "lastNames = sc.parallelize([(1, 'Armin'), (2, 'Hulu'), (2, 'Gerd'), (3, 'Polo'), (4, 'Klein'), (5, 'Bender')])\n",
    "\n",
    "hobbies = sc.parallelize([\n",
    "    ('Sport', 'Tennis'),\n",
    "    ('Sport', 'Football'),\n",
    "    ('Entertainment', 'Gaming'),\n",
    "    ('Music', 'Guitar'),\n",
    "    ('Music', 'Piano')\n",
    "])\n",
    "\n",
    "numbers1 = sc.parallelize([12, 5, 900, 1, 3, 231, 134, 2])\n",
    "numbers2 = sc.parallelize([12, 1, 89, 234, 21, 12, 2])"
   ]
  },
  {
   "cell_type": "code",
   "execution_count": 24,
   "metadata": {},
   "outputs": [
    {
     "data": {
      "text/plain": [
       "[(2, ('Abdi', 'Hulu')),\n",
       " (2, ('Abdi', 'Gerd')),\n",
       " (4, ('Calvin', 'Klein')),\n",
       " (1, ('Aaron', 'Armin')),\n",
       " (3, ('Bart', 'Polo')),\n",
       " (5, ('Debbie', 'Bender'))]"
      ]
     },
     "execution_count": 24,
     "metadata": {},
     "output_type": "execute_result"
    }
   ],
   "source": [
    "firstNames.join(lastNames).collect()"
   ]
  },
  {
   "cell_type": "code",
   "execution_count": 25,
   "metadata": {},
   "outputs": [
    {
     "data": {
      "text/plain": [
       "[('Sport', ['Tennis', 'Football']),\n",
       " ('Entertainment', ['Gaming']),\n",
       " ('Music', ['Guitar', 'Piano'])]"
      ]
     },
     "execution_count": 25,
     "metadata": {},
     "output_type": "execute_result"
    }
   ],
   "source": [
    "hobbies.groupByKey().mapValues(list).collect()"
   ]
  },
  {
   "cell_type": "code",
   "execution_count": 26,
   "metadata": {},
   "outputs": [
    {
     "data": {
      "text/plain": [
       "[12, 2, 1]"
      ]
     },
     "execution_count": 26,
     "metadata": {},
     "output_type": "execute_result"
    }
   ],
   "source": [
    "numbers1.intersection(numbers2).collect()"
   ]
  },
  {
   "cell_type": "code",
   "execution_count": 27,
   "metadata": {},
   "outputs": [
    {
     "data": {
      "text/plain": [
       "('Sport', 'Tennis')"
      ]
     },
     "execution_count": 27,
     "metadata": {},
     "output_type": "execute_result"
    }
   ],
   "source": [
    "hobbies.first()"
   ]
  },
  {
   "cell_type": "code",
   "execution_count": 28,
   "metadata": {},
   "outputs": [
    {
     "data": {
      "text/plain": [
       "6"
      ]
     },
     "execution_count": 28,
     "metadata": {},
     "output_type": "execute_result"
    }
   ],
   "source": [
    "lastNames.count()"
   ]
  },
  {
   "cell_type": "code",
   "execution_count": 29,
   "metadata": {},
   "outputs": [
    {
     "data": {
      "text/plain": [
       "371"
      ]
     },
     "execution_count": 29,
     "metadata": {},
     "output_type": "execute_result"
    }
   ],
   "source": [
    "numbers2.reduce(lambda x,y: x + y)"
   ]
  },
  {
   "cell_type": "code",
   "execution_count": 30,
   "metadata": {},
   "outputs": [],
   "source": [
    "# EXERCISE 4\n",
    "\n",
    "# Load in the data\n",
    "rdd = sc.textFile('cal_housing.data')\n",
    "\n",
    "# Load in the header\n",
    "header = sc.textFile('cal_housing.domain')\n",
    "df = rdd \\\n",
    "    .map(lambda line: line.split(',')) \\\n",
    "    .map(lambda line: Row(\n",
    "        longitude=line[0], \n",
    "        latitude=line[1], \n",
    "        housingMedianAge=line[2],\n",
    "        totalRooms=line[3],\n",
    "        totalBedRooms=line[4],\n",
    "        population=line[5], \n",
    "        households=line[6],\n",
    "        medianIncome=line[7],\n",
    "        medianHouseValue=line[8])).toDF()\n",
    "\n",
    "def convertColumns(df, names, newType):\n",
    "    for name in names:\n",
    "        df = df.withColumn(name, df[name].cast(newType))\n",
    "    return df\n",
    "\n",
    "columns = [\n",
    "    'households',\n",
    "    'housingMedianAge',\n",
    "    'latitude',\n",
    "    'longitude',\n",
    "    'medianHouseValue',\n",
    "    'medianIncome',\n",
    "    'population',\n",
    "    'totalBedRooms',\n",
    "    'totalRooms'\n",
    "]\n",
    "\n",
    "df = convertColumns(df, columns, FloatType())"
   ]
  },
  {
   "cell_type": "code",
   "execution_count": 31,
   "metadata": {},
   "outputs": [
    {
     "data": {
      "text/plain": [
       "Row(max(latitude)=41.95000076293945)"
      ]
     },
     "execution_count": 31,
     "metadata": {},
     "output_type": "execute_result"
    }
   ],
   "source": [
    "# Compute latitude of the northernmost household from California\n",
    "df.agg({\"latitude\": \"max\"}).first()"
   ]
  },
  {
   "cell_type": "code",
   "execution_count": 32,
   "metadata": {},
   "outputs": [
    {
     "name": "stdout",
     "output_type": "stream",
     "text": [
      "+----------+-----+\n",
      "|households|count|\n",
      "+----------+-----+\n",
      "|    6082.0|    1|\n",
      "|    5358.0|    1|\n",
      "|    5189.0|    1|\n",
      "|    5050.0|    1|\n",
      "|    4930.0|    1|\n",
      "|    4855.0|    1|\n",
      "|    4769.0|    1|\n",
      "|    4616.0|    1|\n",
      "|    4490.0|    1|\n",
      "|    4372.0|    1|\n",
      "+----------+-----+\n",
      "only showing top 10 rows\n",
      "\n"
     ]
    }
   ],
   "source": [
    "# Most common household size (all entries are equally common)\n",
    "df.groupBy('households').count().sort(\"households\", ascending=False).show(10)"
   ]
  },
  {
   "cell_type": "code",
   "execution_count": 33,
   "metadata": {},
   "outputs": [
    {
     "data": {
      "text/plain": [
       "Row(max(ratio)=14.194444444444445)"
      ]
     },
     "execution_count": 33,
     "metadata": {},
     "output_type": "execute_result"
    }
   ],
   "source": [
    "# Highest ratio of bedroom per population in the dataset\n",
    "df.select((df.totalBedRooms / df.population).alias(\"ratio\")).agg({\"ratio\": \"max\"}).first()"
   ]
  },
  {
   "cell_type": "code",
   "execution_count": null,
   "metadata": {},
   "outputs": [],
   "source": []
  }
 ],
 "metadata": {
  "kernelspec": {
   "display_name": "Python 3",
   "language": "python",
   "name": "python3"
  },
  "language_info": {
   "codemirror_mode": {
    "name": "ipython",
    "version": 3
   },
   "file_extension": ".py",
   "mimetype": "text/x-python",
   "name": "python",
   "nbconvert_exporter": "python",
   "pygments_lexer": "ipython3",
   "version": "3.7.0"
  }
 },
 "nbformat": 4,
 "nbformat_minor": 2
}
