{
 "cells": [
  {
   "cell_type": "markdown",
   "metadata": {},
   "source": [
    "Universität Heidelberg\n",
    "Distributed Systems I (IVS1)\n",
    "Winter Semester 18/19\n",
    "\n",
    "- Duc Anh Phi\n",
    "- Michael Tabachnik\n",
    "- Edgar Brotzmann\n",
    "\n",
    "# Solutions to Problem Set 4 for lecture Distributed Systems I (IVS1)\n",
    "## Due: 20.11.2018, 2pm\n"
   ]
  },
  {
   "cell_type": "markdown",
   "metadata": {},
   "source": [
    "### Exercise 1"
   ]
  },
  {
   "cell_type": "code",
   "execution_count": 15,
   "metadata": {},
   "outputs": [],
   "source": [
    "import gzip\n",
    "import findspark\n",
    "import re\n",
    "\n",
    "findspark.init(\"/usr/local/spark\")\n",
    "\n",
    "from pyspark.sql import SparkSession\n",
    "from pyspark.sql import Row\n",
    "from pyspark.sql.types import *\n",
    "from pyspark.sql.functions import unix_timestamp"
   ]
  },
  {
   "cell_type": "code",
   "execution_count": 2,
   "metadata": {},
   "outputs": [],
   "source": [
    "spark = SparkSession.builder \\\n",
    "    .master(\"local\") \\\n",
    "    .appName(\"Solutions to Problem Set 4 IVS1\") \\\n",
    "    .config(\"spark.executor.memory\", \"1gb\") \\\n",
    "    .getOrCreate()\n",
    "\n",
    "sc = spark.sparkContext"
   ]
  },
  {
   "cell_type": "code",
   "execution_count": 32,
   "metadata": {},
   "outputs": [
    {
     "name": "stdout",
     "output_type": "stream",
     "text": [
      "+------------+------------------+-------------------+\n",
      "|InstanceType|ProductDescription|         avg(Price)|\n",
      "+------------+------------------+-------------------+\n",
      "|  r3.2xlarge|        Linux/UNIX| 0.6557668832731297|\n",
      "|   c4.xlarge|           Windows|0.22131742268041452|\n",
      "|   i3.xlarge|           Windows|0.24962053470769482|\n",
      "|  p2.8xlarge|        Linux/UNIX| 117.20000000000049|\n",
      "| x1.16xlarge|           Windows|  9.048597719044308|\n",
      "|  i2.4xlarge|           Windows| 1.5526279912024583|\n",
      "|    c4.large|           Windows|0.10950416912487713|\n",
      "|  i3.8xlarge|        Linux/UNIX| 29.279999999999934|\n",
      "|  r4.2xlarge|        Linux/UNIX|0.21761773442050408|\n",
      "|  c4.2xlarge|           Windows|   0.42304020895996|\n",
      "|  d2.4xlarge|           Windows| 1.1192076448974577|\n",
      "| i3.16xlarge|        Linux/UNIX|   58.5599999999999|\n",
      "|  r3.4xlarge|        Linux/UNIX| 0.5058647696038822|\n",
      "|  m4.4xlarge|           Windows| 1.0006524359704119|\n",
      "|  r4.2xlarge|           Windows| 0.7127052461538115|\n",
      "|  i3.8xlarge|           Windows|               44.0|\n",
      "|  r3.8xlarge|           Windows|  3.896891165579292|\n",
      "|  i3.4xlarge|        Linux/UNIX| 3.4522168725100277|\n",
      "|  r3.4xlarge|           Windows|  4.306813385368257|\n",
      "|  d2.8xlarge|           Windows|   2.37976506728288|\n",
      "+------------+------------------+-------------------+\n",
      "only showing top 20 rows\n",
      "\n"
     ]
    }
   ],
   "source": [
    "def createDataframe(filename):\n",
    "    with gzip.open(filename, 'rt') as f:\n",
    "        # use header as row schema\n",
    "        headerLine = f.readline()\n",
    "        header = re.split(r'\\t+', headerLine.rstrip('\\t\\n'))[1:]\n",
    "        RowSchema = Row(*header)\n",
    "        content = [row for row in f.read().split(\"\\n\") if row]\n",
    "        df = sc.parallelize(content) \\\n",
    "            .map(lambda line: re.split(r'\\t+', line.rstrip('\\t\\n'))[1:]) \\\n",
    "            .map(lambda line: RowSchema(*line)) \\\n",
    "            .toDF()\n",
    "        \n",
    "        return df\n",
    "\n",
    "def convertColumns(df):\n",
    "    df = df.withColumn('Price', df['Price'].cast(DoubleType()))\n",
    "    df = df.withColumn('Timestamp', unix_timestamp('Timestamp', \"yyyy-MM-dd'T'HH:mm:ssZZZZ\"))\n",
    "    return df\n",
    "\n",
    "df = createDataframe(\"prices-ap-northeast-2-2017-11-17.txt.gz\")\n",
    "df = convertColumns(df)\n",
    "df.groupBy('InstanceType', 'ProductDescription').avg('Price').show()"
   ]
  },
  {
   "cell_type": "code",
   "execution_count": null,
   "metadata": {},
   "outputs": [],
   "source": []
  }
 ],
 "metadata": {
  "kernelspec": {
   "display_name": "Python 3",
   "language": "python",
   "name": "python3"
  },
  "language_info": {
   "codemirror_mode": {
    "name": "ipython",
    "version": 3
   },
   "file_extension": ".py",
   "mimetype": "text/x-python",
   "name": "python",
   "nbconvert_exporter": "python",
   "pygments_lexer": "ipython3",
   "version": "3.6.6"
  }
 },
 "nbformat": 4,
 "nbformat_minor": 2
}
